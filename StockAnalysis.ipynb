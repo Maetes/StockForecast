{
 "cells": [
  {
   "cell_type": "code",
   "execution_count": 1,
   "metadata": {},
   "outputs": [
    {
     "name": "stderr",
     "output_type": "stream",
     "text": [
      "/Users/lucasrea/.pyenv/versions/3.7.3/lib/python3.7/site-packages/pandas/compat/__init__.py:85: UserWarning: Could not import the lzma module. Your installed Python is incomplete. Attempting to use lzma compression will result in a RuntimeError.\n",
      "  warnings.warn(msg)\n",
      "/Users/lucasrea/.pyenv/versions/3.7.3/lib/python3.7/site-packages/pandas/compat/__init__.py:85: UserWarning: Could not import the lzma module. Your installed Python is incomplete. Attempting to use lzma compression will result in a RuntimeError.\n",
      "  warnings.warn(msg)\n"
     ]
    }
   ],
   "source": [
    "import yfinance as yf\n",
    "import datetime\n",
    "import os\n",
    "import pandas as pd\n",
    "import numpy as np\n",
    "from finta import TA\n",
    "import time\n",
    "\n",
    "from sklearn.ensemble import RandomForestClassifier\n",
    "from sklearn.model_selection import train_test_split\n",
    "from sklearn.metrics import confusion_matrix, classification_report"
   ]
  },
  {
   "cell_type": "code",
   "execution_count": 2,
   "metadata": {},
   "outputs": [],
   "source": [
    "\"\"\"\n",
    "Defining some constants for data mining\n",
    "\"\"\"\n",
    "\n",
    "NUM_DAYS = 1000     # The number of days of historical data to retrieve\n",
    "INTERVAL = '1d'     # Sample rate of historical data\n",
    "symbol = 'AMD'      # Symbol of the desired stock\n",
    "\n",
    "# List of symbols for technical indicators\n",
    "INDICATORS = ['RSI', 'MACD', 'STOCH', 'ADL', 'ATR', 'MOM', 'MFI', 'ROC', 'OBV', 'CCI', 'EMV', 'VORTEX']"
   ]
  },
  {
   "cell_type": "code",
   "execution_count": 3,
   "metadata": {},
   "outputs": [
    {
     "name": "stdout",
     "output_type": "stream",
     "text": [
      "[*********************100%***********************]  1 of 1 completed\n"
     ]
    }
   ],
   "source": [
    "\"\"\"\n",
    "Next we pull the historical data using yfinance\n",
    "Rename the column names because finta uses the lowercase names\n",
    "\"\"\"\n",
    "\n",
    "start = (datetime.date.today() - datetime.timedelta( NUM_DAYS) )\n",
    "end = datetime.datetime.today()\n",
    "\n",
    "data = yf.download(symbol, start=start, end=end, interval=INTERVAL)\n",
    "data.rename(columns={\"Close\": 'close', \"High\": 'high', \"Low\": 'low', 'Volume': 'volume', 'Open': 'open'}, inplace=True)"
   ]
  },
  {
   "cell_type": "code",
   "execution_count": 4,
   "metadata": {},
   "outputs": [],
   "source": [
    "\"\"\"\n",
    "Next we clean our data and perform feature engineering to create new technical indicator features that our\n",
    "model can learn from\n",
    "\"\"\"\n",
    "\n",
    "def _exponential_smooth(data, alpha):\n",
    "    \"\"\"\n",
    "    Function that exponentially smooths dataset so values are less 'rigid'\n",
    "    :param alpha: weight factor to weight recent values more\n",
    "    \"\"\"\n",
    "    \n",
    "    return data.ewm(alpha=alpha).mean()\n",
    "    \n",
    "def _get_indicator_data(data):\n",
    "    \"\"\"\n",
    "    Function that uses the finta API to calculate technical indicators used as the features\n",
    "    :return:\n",
    "    \"\"\"\n",
    "\n",
    "    for indicator in INDICATORS:\n",
    "        ind_data = eval('TA.' + indicator + '(data)')\n",
    "        if not isinstance(ind_data, pd.DataFrame):\n",
    "            ind_data = ind_data.to_frame()\n",
    "        data = data.merge(ind_data, left_index=True, right_index=True)\n",
    "    data.rename(columns={\"14 period EMV.\": '14 period EMV'}, inplace=True)\n",
    "\n",
    "    # Also calculate moving averages for features\n",
    "    data['ema50'] = data['close'] / data['close'].ewm(50).mean()\n",
    "    data['ema21'] = data['close'] / data['close'].ewm(21).mean()\n",
    "    data['ema14'] = data['close'] / data['close'].ewm(14).mean()\n",
    "    data['ema5'] = data['close'] / data['close'].ewm(5).mean()\n",
    "\n",
    "    # Remove columns that won't be used as features\n",
    "    del (data['open'])\n",
    "    del (data['high'])\n",
    "    del (data['low'])\n",
    "    del (data['volume'])\n",
    "    del (data['Adj Close'])\n",
    "    \n",
    "    return data\n",
    "    \n",
    "def _produce_prediction(data, window=10):\n",
    "    \"\"\"\n",
    "    Function that produces the 'truth' values\n",
    "    At a given row, it looks 'window' rows ahead to see if the price increased (1) or decreased (0)\n",
    "    :param window: number of days, or rows to look ahead to see what the price did\n",
    "    \"\"\"\n",
    "\n",
    "    prediction = (data.shift(-window)['close'] >= data['close'])\n",
    "    prediction = prediction.iloc[:-window]\n",
    "    data['pred'] = prediction.astype(int)\n",
    "    \n",
    "    return data\n",
    "\n",
    "data = _exponential_smooth(data, 0.9)\n",
    "data = _get_indicator_data(data)\n",
    "data = _produce_prediction(data, window=15)\n",
    "del (data['close'])\n",
    "data = data.dropna()"
   ]
  },
  {
   "cell_type": "code",
   "execution_count": 5,
   "metadata": {},
   "outputs": [],
   "source": [
    "def _split_data(data):\n",
    "\n",
    "        \"\"\"\n",
    "        Function to partition the data into the train and test set\n",
    "        :return:\n",
    "        \"\"\"\n",
    "\n",
    "        y = data['pred']\n",
    "        features = [x for x in data.columns if x not in ['pred']]\n",
    "        X = data[features]\n",
    "\n",
    "        X_train, X_test, y_train, y_test = train_test_split(X, y, train_size= 2 * len(X) // 3)\n",
    "        return X_train, X_test, y_train, y_test\n",
    "\n",
    "X_train, X_test, y_train, y_test = _split_data(data)"
   ]
  },
  {
   "cell_type": "code",
   "execution_count": 6,
   "metadata": {},
   "outputs": [
    {
     "name": "stdout",
     "output_type": "stream",
     "text": [
      "              precision    recall  f1-score   support\n",
      "\n",
      "         0.0       0.89      0.76      0.82        78\n",
      "         1.0       0.88      0.95      0.91       142\n",
      "\n",
      "    accuracy                           0.88       220\n",
      "   macro avg       0.89      0.85      0.87       220\n",
      "weighted avg       0.88      0.88      0.88       220\n",
      "\n",
      "[[ 59  19]\n",
      " [  7 135]]\n",
      "[0.04012027 0.07203283 0.06833689 0.03587289 0.11520538 0.08357104\n",
      " 0.04883955 0.05141975 0.03324876 0.03757946 0.07535557 0.03432065\n",
      " 0.06868308 0.0291268  0.02444684 0.05515354 0.04284054 0.04107011\n",
      " 0.04277604]\n"
     ]
    }
   ],
   "source": [
    "\"\"\"\n",
    "Next we create and train our random forest classifier\n",
    "\"\"\"\n",
    "\n",
    "def _train_random_forest(X_train, y_train, X_tesst, y_test):\n",
    "\n",
    "    \"\"\"\n",
    "    Function that uses random forest classifier to train the model\n",
    "    :return:\n",
    "    \"\"\"\n",
    "\n",
    "    rf = RandomForestClassifier(n_jobs=-1, n_estimators=85, random_state=65)\n",
    "    rf.fit(X_train, y_train.values.ravel())\n",
    "    prediction = rf.predict(X_test)\n",
    "\n",
    "    print(classification_report(y_test, prediction))\n",
    "    print(confusion_matrix(y_test, prediction))\n",
    "    print(rf.feature_importances_)\n",
    "    \n",
    "_train_random_forest(X_train, y_train, X_test, y_test)"
   ]
  },
  {
   "cell_type": "code",
   "execution_count": null,
   "metadata": {},
   "outputs": [],
   "source": []
  }
 ],
 "metadata": {
  "kernelspec": {
   "display_name": "Python 3",
   "language": "python",
   "name": "python3"
  },
  "language_info": {
   "codemirror_mode": {
    "name": "ipython",
    "version": 3
   },
   "file_extension": ".py",
   "mimetype": "text/x-python",
   "name": "python",
   "nbconvert_exporter": "python",
   "pygments_lexer": "ipython3",
   "version": "3.7.3"
  }
 },
 "nbformat": 4,
 "nbformat_minor": 4
}
